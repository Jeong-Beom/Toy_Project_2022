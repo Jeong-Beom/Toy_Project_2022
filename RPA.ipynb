{
 "cells": [
  {
   "cell_type": "markdown",
   "metadata": {},
   "source": [
    "## 필요 패키지 로드"
   ]
  },
  {
   "cell_type": "code",
   "execution_count": 7,
   "metadata": {},
   "outputs": [],
   "source": [
    "# 필요 데이터 크롤링\n",
    "import requests\n",
    "import pandas as pd\n",
    "import time\n",
    "from selenium import webdriver\n",
    "from selenium.webdriver.common.keys import Keys\n",
    "from bs4 import BeautifulSoup\n",
    "from urllib.parse import quote\n",
    "from tqdm.notebook import tqdm\n",
    "from selenium.webdriver.common.by import By"
   ]
  },
  {
   "cell_type": "code",
   "execution_count": 10,
   "metadata": {},
   "outputs": [
    {
     "name": "stderr",
     "output_type": "stream",
     "text": [
      "<ipython-input-10-0a5b11569001>:1: DeprecationWarning: executable_path has been deprecated, please pass in a Service object\n",
      "  driver = webdriver.Chrome('C:\\\\Workspace\\\\python\\\\Toy_Project\\\\Toy_Project_2022\\\\chrome\\\\chromedriver.exe')\n"
     ]
    }
   ],
   "source": [
    "driver = webdriver.Chrome('C:\\\\Workspace\\\\python\\\\Toy_Project\\\\Toy_Project_2022\\\\chrome\\\\chromedriver.exe')\n",
    "URL = \"https://www.16personalities.com/ko\"\n",
    "driver.get(URL)\n",
    "time.sleep(2) # 로딩시간에 맞게 적정히 수정\n",
    "driver.find_element(By.XPATH, '//*[@id=\"main-app\"]/main/div[1]/div[2]/a').click()\n",
    "time.sleep(2) # 로딩시간에 맞게 적정히 수정\n",
    "## Page 1(문항 6개)\n",
    "driver.find_element(By.XPATH, '//*[@id=\"main-app\"]/div[1]/div/div[2]/div[1]/div[2]/div[2]/div[1]').click()\n",
    "time.sleep(1) # 로딩시간에 맞게 적정히 수정\n",
    "driver.find_element(By.XPATH, '//*[@id=\"main-app\"]/div[1]/div/div[2]/div[2]/div[2]/div[2]/div[2]').click()\n",
    "time.sleep(1) # 로딩시간에 맞게 적정히 수정\n",
    "driver.find_element(By.XPATH, '//*[@id=\"main-app\"]/div[1]/div/div[2]/div[3]/div[2]/div[2]/div[2]').click()\n",
    "time.sleep(1) # 로딩시간에 맞게 적정히 수정\n",
    "driver.find_element(By.XPATH, '//*[@id=\"main-app\"]/div[1]/div/div[2]/div[4]/div[2]/div[2]/div[2]').click()\n",
    "time.sleep(1) # 로딩시간에 맞게 적정히 수정\n",
    "driver.find_element(By.XPATH, '//*[@id=\"main-app\"]/div[1]/div/div[2]/div[5]/div[2]/div[2]/div[2]').click()\n",
    "time.sleep(1) # 로딩시간에 맞게 적정히 수정\n",
    "driver.find_element(By.XPATH, '//*[@id=\"main-app\"]/div[1]/div/div[2]/div[6]/div[2]/div[2]/div[2]').click()\n",
    "time.sleep(1) # 로딩시간에 맞게 적정히 수정\n",
    "driver.find_element(By.XPATH, '//*[@id=\"main-app\"]/div[1]/div/div[3]/button').click()\n",
    "time.sleep(2) # 로딩시간에 맞게 적정히 수정"
   ]
  }
 ],
 "metadata": {
  "interpreter": {
   "hash": "fe3bab233825460445dbfeea6dcd52ef5815a3fa13c858fea07ac830aa383284"
  },
  "kernelspec": {
   "display_name": "Python 3.8.10 ('base')",
   "language": "python",
   "name": "python3"
  },
  "language_info": {
   "codemirror_mode": {
    "name": "ipython",
    "version": 3
   },
   "file_extension": ".py",
   "mimetype": "text/x-python",
   "name": "python",
   "nbconvert_exporter": "python",
   "pygments_lexer": "ipython3",
   "version": "3.8.10"
  },
  "orig_nbformat": 4
 },
 "nbformat": 4,
 "nbformat_minor": 2
}
