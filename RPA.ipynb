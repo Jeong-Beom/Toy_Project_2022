{
 "cells": [
  {
   "cell_type": "markdown",
   "metadata": {},
   "source": [
    "## 필요 패키지 로드"
   ]
  },
  {
   "cell_type": "code",
   "execution_count": 6,
   "metadata": {},
   "outputs": [],
   "source": [
    "# 필요 패키지 로드\n",
    "import time\n",
    "from selenium import webdriver\n",
    "from selenium.webdriver.common.keys import Keys\n",
    "from selenium.webdriver.common.by import By"
   ]
  },
  {
   "cell_type": "code",
   "execution_count": 3,
   "metadata": {},
   "outputs": [
    {
     "name": "stdout",
     "output_type": "stream",
     "text": [
      "282475249\n"
     ]
    }
   ],
   "source": [
    "# 선택가능한 모든 경우의 수 산출 - dfs 함수 또는 파이썬 라이브러리 이용 가능\n",
    "from itertools import permutations # 일반 순열\n",
    "from itertools import product # 중복을 허용하는 순열\n",
    "\n",
    "# 페이지당 문항수 6개 x 페이지 수 10개 = 60 / repeat = 10일때 1분 25초\n",
    "cases = list(product([1, 2, 3, 4, 5, 6, 7], repeat = 10))\n",
    "print(len(cases))"
   ]
  },
  {
   "cell_type": "code",
   "execution_count": 10,
   "metadata": {},
   "outputs": [
    {
     "name": "stderr",
     "output_type": "stream",
     "text": [
      "<ipython-input-10-1c48d8fefa0d>:3: DeprecationWarning: executable_path has been deprecated, please pass in a Service object\n",
      "  driver = webdriver.Chrome('C:\\\\Workspace\\\\python\\\\Toy_Project\\\\Toy_Project_2022\\\\chrome\\\\chromedriver.exe')\n"
     ]
    }
   ],
   "source": [
    "URL = \"https://www.16personalities.com/ko\"\n",
    "for _ in range(2):\n",
    "    driver = webdriver.Chrome('C:\\\\Workspace\\\\python\\\\Toy_Project\\\\Toy_Project_2022\\\\chrome\\\\chromedriver.exe')\n",
    "    driver.get(URL)\n",
    "    time.sleep(2) # 로딩시간에 맞게 적정히 수정\n",
    "    driver.find_element(By.XPATH, '//*[@id=\"main-app\"]/main/div[1]/div[2]/a').click()\n",
    "    time.sleep(2) # 로딩시간에 맞게 적정히 수정\n",
    "    ## 모든 응답문항 체크 홈페이지 구조 동일(페이지당 문항 6개) // 총 10개 페이지\n",
    "    for i in range(10):\n",
    "        driver.find_element(By.XPATH, '//*[@id=\"main-app\"]/div[1]/div/div[2]/div[1]/div[2]/div[2]/div[1]').click()\n",
    "        time.sleep(1) # 로딩시간에 맞게 적정히 수정\n",
    "        driver.find_element(By.XPATH, '//*[@id=\"main-app\"]/div[1]/div/div[2]/div[2]/div[2]/div[2]/div[1]').click()\n",
    "        time.sleep(1) # 로딩시간에 맞게 적정히 수정\n",
    "        driver.find_element(By.XPATH, '//*[@id=\"main-app\"]/div[1]/div/div[2]/div[3]/div[2]/div[2]/div[1]').click()\n",
    "        time.sleep(1) # 로딩시간에 맞게 적정히 수정\n",
    "        driver.find_element(By.XPATH, '//*[@id=\"main-app\"]/div[1]/div/div[2]/div[4]/div[2]/div[2]/div[1]').click()\n",
    "        time.sleep(1) # 로딩시간에 맞게 적정히 수정\n",
    "        driver.find_element(By.XPATH, '//*[@id=\"main-app\"]/div[1]/div/div[2]/div[5]/div[2]/div[2]/div[1]').click()\n",
    "        time.sleep(1) # 로딩시간에 맞게 적정히 수정\n",
    "        driver.find_element(By.XPATH, '//*[@id=\"main-app\"]/div[1]/div/div[2]/div[6]/div[2]/div[2]/div[1]').click()\n",
    "        time.sleep(1) # 로딩시간에 맞게 적정히 수정\n",
    "        driver.find_element(By.XPATH, '//*[@id=\"main-app\"]/div[1]/div/div[3]/button').click()\n",
    "        time.sleep(2) # 로딩시간에 맞게 적정히 수정\n",
    "    driver.close()"
   ]
  }
 ],
 "metadata": {
  "interpreter": {
   "hash": "c7344ef82abd63d022c2c377f56f9fd8e0c367b82c5dbec334952875519c7220"
  },
  "kernelspec": {
   "display_name": "Python 3.8.10 ('base')",
   "language": "python",
   "name": "python3"
  },
  "language_info": {
   "codemirror_mode": {
    "name": "ipython",
    "version": 3
   },
   "file_extension": ".py",
   "mimetype": "text/x-python",
   "name": "python",
   "nbconvert_exporter": "python",
   "pygments_lexer": "ipython3",
   "version": "3.8.10"
  },
  "orig_nbformat": 4
 },
 "nbformat": 4,
 "nbformat_minor": 2
}
