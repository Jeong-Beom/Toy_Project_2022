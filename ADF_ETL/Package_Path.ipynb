{
 "cells": [
  {
   "cell_type": "code",
   "execution_count": 5,
   "metadata": {},
   "outputs": [],
   "source": [
    "import selenium\n",
    "import inspect\n",
    "import pyodbc"
   ]
  },
  {
   "cell_type": "code",
   "execution_count": 10,
   "metadata": {},
   "outputs": [
    {
     "name": "stdout",
     "output_type": "stream",
     "text": [
      "c:\\Users\\Bestc\\anaconda3\\lib\\site-packages\\selenium\\__init__.py\n",
      "c:\\Users\\Bestc\\anaconda3\\lib\\site-packages\\pyodbc.cp38-win_amd64.pyd\n"
     ]
    }
   ],
   "source": [
    "print(inspect.getfile(selenium)) \n",
    "print(inspect.getfile(pyodbc)) "
   ]
  },
  {
   "cell_type": "code",
   "execution_count": 11,
   "metadata": {},
   "outputs": [
    {
     "name": "stdout",
     "output_type": "stream",
     "text": [
      "c:\\Users\\Bestc\\anaconda3\n"
     ]
    }
   ],
   "source": [
    "import os\n",
    "import sys\n",
    "\n",
    "print(os.path.dirname(sys.executable))"
   ]
  }
 ],
 "metadata": {
  "kernelspec": {
   "display_name": "Python 3.8.10 ('base')",
   "language": "python",
   "name": "python3"
  },
  "language_info": {
   "codemirror_mode": {
    "name": "ipython",
    "version": 3
   },
   "file_extension": ".py",
   "mimetype": "text/x-python",
   "name": "python",
   "nbconvert_exporter": "python",
   "pygments_lexer": "ipython3",
   "version": "3.8.10"
  },
  "orig_nbformat": 4,
  "vscode": {
   "interpreter": {
    "hash": "c7344ef82abd63d022c2c377f56f9fd8e0c367b82c5dbec334952875519c7220"
   }
  }
 },
 "nbformat": 4,
 "nbformat_minor": 2
}
