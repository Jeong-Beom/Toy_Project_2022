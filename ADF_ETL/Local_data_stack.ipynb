{
 "cells": [
  {
   "cell_type": "code",
   "execution_count": 8,
   "metadata": {},
   "outputs": [
    {
     "name": "stdout",
     "output_type": "stream",
     "text": [
      "[('GD101     ', '나이키', '2000-12-12', '미국', Decimal('900.0000'), 1), ('GD102     ', '아디다스', '2000-01-12', '독일', Decimal('450.0000'), 2), ('GD103     ', '프로스펙스', '2000-02-12', '한국', Decimal('720.0000'), 3), ('GD104     ', 'FILA', '2000-03-15', '영국', Decimal('500.0000'), 4)]\n"
     ]
    }
   ],
   "source": [
    "# 로컬 DB와 SSMS 연결\n",
    "import pyodbc \n",
    "\n",
    "conn = pyodbc.connect('Driver={SQL Server};'\n",
    "                      'Server=DESKTOP-NBIHLGQ;'\n",
    "                      'Database=TESTDB3;'\n",
    "                      'Trusted_Connection=yes;')\n",
    "\n",
    "with conn.cursor() as cursor:\n",
    "    cursor.execute(\"select * from dbo.productTb\")\n",
    "    row = cursor.fetchall()\n",
    "    print(row)"
   ]
  },
  {
   "cell_type": "code",
   "execution_count": 2,
   "metadata": {},
   "outputs": [
    {
     "data": {
      "text/html": [
       "<div>\n",
       "<style scoped>\n",
       "    .dataframe tbody tr th:only-of-type {\n",
       "        vertical-align: middle;\n",
       "    }\n",
       "\n",
       "    .dataframe tbody tr th {\n",
       "        vertical-align: top;\n",
       "    }\n",
       "\n",
       "    .dataframe thead th {\n",
       "        text-align: right;\n",
       "    }\n",
       "</style>\n",
       "<table border=\"1\" class=\"dataframe\">\n",
       "  <thead>\n",
       "    <tr style=\"text-align: right;\">\n",
       "      <th></th>\n",
       "      <th>id</th>\n",
       "      <th>c1</th>\n",
       "      <th>c2</th>\n",
       "      <th>c3</th>\n",
       "    </tr>\n",
       "  </thead>\n",
       "  <tbody>\n",
       "    <tr>\n",
       "      <th>0</th>\n",
       "      <td>0</td>\n",
       "      <td>6261</td>\n",
       "      <td>-4140</td>\n",
       "      <td>6537</td>\n",
       "    </tr>\n",
       "    <tr>\n",
       "      <th>1</th>\n",
       "      <td>1</td>\n",
       "      <td>-7834</td>\n",
       "      <td>3008</td>\n",
       "      <td>-6573</td>\n",
       "    </tr>\n",
       "    <tr>\n",
       "      <th>2</th>\n",
       "      <td>2</td>\n",
       "      <td>7840</td>\n",
       "      <td>3606</td>\n",
       "      <td>9865</td>\n",
       "    </tr>\n",
       "    <tr>\n",
       "      <th>3</th>\n",
       "      <td>3</td>\n",
       "      <td>5462</td>\n",
       "      <td>-6383</td>\n",
       "      <td>-5336</td>\n",
       "    </tr>\n",
       "    <tr>\n",
       "      <th>4</th>\n",
       "      <td>4</td>\n",
       "      <td>-3061</td>\n",
       "      <td>-2475</td>\n",
       "      <td>-9911</td>\n",
       "    </tr>\n",
       "    <tr>\n",
       "      <th>...</th>\n",
       "      <td>...</td>\n",
       "      <td>...</td>\n",
       "      <td>...</td>\n",
       "      <td>...</td>\n",
       "    </tr>\n",
       "    <tr>\n",
       "      <th>999995</th>\n",
       "      <td>999995</td>\n",
       "      <td>-5936</td>\n",
       "      <td>5124</td>\n",
       "      <td>7102</td>\n",
       "    </tr>\n",
       "    <tr>\n",
       "      <th>999996</th>\n",
       "      <td>999996</td>\n",
       "      <td>659</td>\n",
       "      <td>-9081</td>\n",
       "      <td>-1857</td>\n",
       "    </tr>\n",
       "    <tr>\n",
       "      <th>999997</th>\n",
       "      <td>999997</td>\n",
       "      <td>9317</td>\n",
       "      <td>-3466</td>\n",
       "      <td>5960</td>\n",
       "    </tr>\n",
       "    <tr>\n",
       "      <th>999998</th>\n",
       "      <td>999998</td>\n",
       "      <td>3203</td>\n",
       "      <td>6243</td>\n",
       "      <td>-4243</td>\n",
       "    </tr>\n",
       "    <tr>\n",
       "      <th>999999</th>\n",
       "      <td>999999</td>\n",
       "      <td>-2217</td>\n",
       "      <td>-1551</td>\n",
       "      <td>5167</td>\n",
       "    </tr>\n",
       "  </tbody>\n",
       "</table>\n",
       "<p>1000000 rows × 4 columns</p>\n",
       "</div>"
      ],
      "text/plain": [
       "            id    c1    c2    c3\n",
       "0            0  6261 -4140  6537\n",
       "1            1 -7834  3008 -6573\n",
       "2            2  7840  3606  9865\n",
       "3            3  5462 -6383 -5336\n",
       "4            4 -3061 -2475 -9911\n",
       "...        ...   ...   ...   ...\n",
       "999995  999995 -5936  5124  7102\n",
       "999996  999996   659 -9081 -1857\n",
       "999997  999997  9317 -3466  5960\n",
       "999998  999998  3203  6243 -4243\n",
       "999999  999999 -2217 -1551  5167\n",
       "\n",
       "[1000000 rows x 4 columns]"
      ]
     },
     "execution_count": 2,
     "metadata": {},
     "output_type": "execute_result"
    }
   ],
   "source": [
    "# 테스트용 DataFrame 작성(100만개 행, 4개 컬럼)\n",
    "import random\n",
    "import pandas as pd\n",
    "df_01 = pd.DataFrame({'id' : [i for i in range(1000000)], \n",
    "                      'c1' : [random.randrange(-10000, 10000) for _ in range(1000000)], \n",
    "                      'c2' : [random.randrange(-10000, 10000) for _ in range(1000000)], \n",
    "                      'c3' : [random.randrange(-10000, 10000) for _ in range(1000000)]})\n",
    "\n",
    "df_02 = pd.DataFrame({'id' : [i for i in range(1000000)], \n",
    "                      'c1' : [random.randrange(-10000, 10000) for _ in range(1000000)], \n",
    "                      'c2' : [random.randrange(-10000, 10000) for _ in range(1000000)], \n",
    "                      'c3' : [random.randrange(-10000, 10000) for _ in range(1000000)]})\n",
    "df_02"
   ]
  },
  {
   "cell_type": "code",
   "execution_count": 3,
   "metadata": {},
   "outputs": [
    {
     "data": {
      "application/vnd.jupyter.widget-view+json": {
       "model_id": "da4df8b3086a4ea9b71a3f46745bc2f7",
       "version_major": 2,
       "version_minor": 0
      },
      "text/plain": [
       "0it [00:00, ?it/s]"
      ]
     },
     "metadata": {},
     "output_type": "display_data"
    },
    {
     "data": {
      "application/vnd.jupyter.widget-view+json": {
       "model_id": "5b3e836897624f87a07a927f35e7fd9d",
       "version_major": 2,
       "version_minor": 0
      },
      "text/plain": [
       "0it [00:00, ?it/s]"
      ]
     },
     "metadata": {},
     "output_type": "display_data"
    }
   ],
   "source": [
    "# 데이터 적재\n",
    "import pyodbc \n",
    "from tqdm.notebook import tqdm\n",
    "\n",
    "conn = pyodbc.connect('Driver={SQL Server};'\n",
    "                      'Server=DESKTOP-NBIHLGQ;'\n",
    "                      'Database=TESTDB3;'\n",
    "                      'Trusted_Connection=yes;')\n",
    "cursor = conn.cursor()\n",
    "for index, row in tqdm(df_01.iterrows()):\n",
    "     cursor.execute(\"INSERT INTO dbo.test01(id,c1,c2,c3) values(?,?,?,?)\", \n",
    "                     int(row.id), int(row.c1), int(row.c2), int(row.c3))\n",
    "\n",
    "for index, row in tqdm(df_02.iterrows()):\n",
    "     cursor.execute(\"INSERT INTO dbo.test02(id,c1,c2,c3) values(?,?,?,?)\", \n",
    "                     int(row.id), int(row.c1), int(row.c2), int(row.c3))\n",
    "conn.commit()\n",
    "cursor.close()"
   ]
  }
 ],
 "metadata": {
  "kernelspec": {
   "display_name": "Python 3.8.10 ('base')",
   "language": "python",
   "name": "python3"
  },
  "language_info": {
   "codemirror_mode": {
    "name": "ipython",
    "version": 3
   },
   "file_extension": ".py",
   "mimetype": "text/x-python",
   "name": "python",
   "nbconvert_exporter": "python",
   "pygments_lexer": "ipython3",
   "version": "3.8.10"
  },
  "orig_nbformat": 4,
  "vscode": {
   "interpreter": {
    "hash": "c7344ef82abd63d022c2c377f56f9fd8e0c367b82c5dbec334952875519c7220"
   }
  }
 },
 "nbformat": 4,
 "nbformat_minor": 2
}
